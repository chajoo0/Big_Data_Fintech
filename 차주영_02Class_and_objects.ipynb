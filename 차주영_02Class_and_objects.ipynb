{
 "cells": [
  {
   "cell_type": "markdown",
   "metadata": {},
   "source": [
    "# Lecture 02: Class and Objects"
   ]
  },
  {
   "cell_type": "code",
   "execution_count": 1,
   "metadata": {},
   "outputs": [
    {
     "name": "stdout",
     "output_type": "stream",
     "text": [
      "3\n",
      "7\n"
     ]
    }
   ],
   "source": [
    "# Use of a calculator\n",
    "\n",
    "result=0\n",
    "\n",
    "def adder(num):\n",
    "    global result  # 전역 변수(global)사용\n",
    "    result += num\n",
    "    return result\n",
    "\n",
    "print(adder(3))\n",
    "print(adder(4))\n"
   ]
  },
  {
   "cell_type": "code",
   "execution_count": 3,
   "metadata": {},
   "outputs": [
    {
     "name": "stdout",
     "output_type": "stream",
     "text": [
      "3\n",
      "7\n",
      "3\n",
      "10\n"
     ]
    }
   ],
   "source": [
    "# Example of a calculator using CLASS, forthe need of multiple calculators simultaneously.\n",
    "# Here's an example using class for multiple use of calculators simultaneously.\n",
    "\n",
    "class Calculator:\n",
    "    def __init__(self):\n",
    "        self.result=0\n",
    "\n",
    "    def adder(self, num):\n",
    "        self.result += num\n",
    "        return self.result\n",
    "\n",
    "cal1=Calculator()\n",
    "cal2=Calculator() #이렇게 필요한 함수 별도로 저장해서 한 context안에서 따로따로 사용가능\n",
    "\n",
    "print(cal1.adder(3))\n",
    "print(cal1.adder(4))\n",
    "print(cal2.adder(3))\n",
    "print(cal2.adder(7))\n"
   ]
  },
  {
   "cell_type": "markdown",
   "metadata": {},
   "source": [
    "#### CLASS VARIABLES"
   ]
  },
  {
   "cell_type": "code",
   "execution_count": 5,
   "metadata": {},
   "outputs": [],
   "source": [
    "class Service:\n",
    "    info = \"파이썬은 쉽고 편리한 언어다.\""
   ]
  },
  {
   "cell_type": "code",
   "execution_count": 5,
   "metadata": {},
   "outputs": [],
   "source": [
    "# Service 클래스 이용방법: 이렇게 할당\n",
    "pey = Service()"
   ]
  },
  {
   "cell_type": "code",
   "execution_count": 6,
   "metadata": {},
   "outputs": [
    {
     "data": {
      "text/plain": [
       "'파이썬은 쉽고 편리한 언어이다.'"
      ]
     },
     "execution_count": 6,
     "metadata": {},
     "output_type": "execute_result"
    }
   ],
   "source": [
    "# then we can use the attribute in the class.\n",
    "pey.info"
   ]
  },
  {
   "cell_type": "markdown",
   "metadata": {},
   "source": [
    "#### CLASS FUNCTION (CALLED \"METHOD\")"
   ]
  },
  {
   "cell_type": "code",
   "execution_count": 13,
   "metadata": {},
   "outputs": [],
   "source": [
    "# We update the Service, adding the summation function.\n",
    "class Service:\n",
    "    info=\"파이썬은 쉽고 편리한 언어이다.\"\n",
    "    def sum(self, a, b):\n",
    "        result=a+b\n",
    "        print(\"%s + %s = %s 입니다.\" %(a, b, result))"
   ]
  },
  {
   "cell_type": "code",
   "execution_count": 8,
   "metadata": {},
   "outputs": [
    {
     "name": "stdout",
     "output_type": "stream",
     "text": [
      "1 + 1 = 2 입니다.\n"
     ]
    }
   ],
   "source": [
    "pey = Service()\n",
    "pey.sum(1,1)"
   ]
  },
  {
   "cell_type": "code",
   "execution_count": 9,
   "metadata": {},
   "outputs": [
    {
     "ename": "TypeError",
     "evalue": "sum() takes 3 positional arguments but 4 were given",
     "output_type": "error",
     "traceback": [
      "\u001b[1;31m---------------------------------------------------------------------------\u001b[0m",
      "\u001b[1;31mTypeError\u001b[0m                                 Traceback (most recent call last)",
      "\u001b[1;32m<ipython-input-9-5f3dbd31227d>\u001b[0m in \u001b[0;36m<module>\u001b[1;34m()\u001b[0m\n\u001b[1;32m----> 1\u001b[1;33m \u001b[0mpey\u001b[0m\u001b[1;33m.\u001b[0m\u001b[0msum\u001b[0m\u001b[1;33m(\u001b[0m\u001b[0mpey\u001b[0m\u001b[1;33m,\u001b[0m \u001b[1;36m1\u001b[0m\u001b[1;33m,\u001b[0m \u001b[1;36m1\u001b[0m\u001b[1;33m)\u001b[0m\u001b[1;33m\u001b[0m\u001b[0m\n\u001b[0m",
      "\u001b[1;31mTypeError\u001b[0m: sum() takes 3 positional arguments but 4 were given"
     ]
    }
   ],
   "source": [
    "pey.sum(pey, 1, 1)"
   ]
  },
  {
   "cell_type": "code",
   "execution_count": 11,
   "metadata": {},
   "outputs": [],
   "source": [
    "# Add a function to provide a service printing the customer's name.\n",
    "class Service:\n",
    "    info=\"파이썬은 쉽고 편리한 언어이다.\"\n",
    "    def setname(self, name):   # \"self\" bridges between the id \"pey\" and \"홍길동\"\n",
    "        self.name=name\n",
    "    def sum(self, a, b):\n",
    "        result=a+b\n",
    "        print(\"%s님, %s + %s = %s 입니다.\" %(self.name, a, b, result))\n",
    "pey = Service()"
   ]
  },
  {
   "cell_type": "code",
   "execution_count": 12,
   "metadata": {},
   "outputs": [
    {
     "name": "stdout",
     "output_type": "stream",
     "text": [
      "홍길동님, 1 + 1 = 2 입니다.\n"
     ]
    }
   ],
   "source": [
    "# Should declare one's name in order to use the service.\n",
    "pey.setname(\"홍길동\")\n",
    "pey.sum(1,1)"
   ]
  },
  {
   "cell_type": "markdown",
   "metadata": {},
   "source": [
    "#### \\_\\_init\\_\\_ FUNCTION"
   ]
  },
  {
   "cell_type": "code",
   "execution_count": 25,
   "metadata": {},
   "outputs": [],
   "source": [
    "# __init__ function assigns attribute values when creating an instance.\n",
    "class Service:\n",
    "    info=\"파이썬은 쉽고 편리한 언어이다.\"\n",
    "    def __init__(self, name):\n",
    "        self.name=name\n",
    "    def sum(self, a, b):\n",
    "        result=a+b\n",
    "        print(\"%s님, %s + %s = %s 입니다.\" %(self.name, a, b, result))"
   ]
  },
  {
   "cell_type": "code",
   "execution_count": 26,
   "metadata": {},
   "outputs": [],
   "source": [
    "# __init__ is always exercised when creating an instance.\n",
    "pey = Service(\"홍길동\")"
   ]
  },
  {
   "cell_type": "code",
   "execution_count": 14,
   "metadata": {},
   "outputs": [
    {
     "name": "stdout",
     "output_type": "stream",
     "text": [
      "(x, y) = (1, 1)\n",
      "(x, y) = (1, 2)\n",
      "(x, y) = (2, 3)\n"
     ]
    }
   ],
   "source": [
    "# 클래스 정의\n",
    "class MyClass(object):\n",
    "    \"\"\"\n",
    "    클래스에 대한 설명\n",
    "    \"\"\"\n",
    "    x=0\n",
    "    y=0\n",
    "    \n",
    "    def my_print(self):\n",
    "        self.x += 1  # 인스턴스 속성\n",
    "        MyClass.y += 1 # 클래스 속성\n",
    "        print('(x, y) = ({}, {})'.format(self.x, self.y))\n",
    "\n",
    "# 클래스의 인스턴스 생성\n",
    "f=MyClass \t # ()가 없으면 클래스에 별명을 붙인다는 의미\n",
    "a=MyClass() # MyClass 클래스의 인스턴스를 만들고 여기에 a라는 이름을 붙임\n",
    "b=f()  \t # f()는 MyClass()와 같은 의미\n",
    "\n",
    "a.my_print()\n",
    "b.my_print()   # x는 인스턴스 속성에 의해 정의되므로 a와 b에서 독립적\n",
    "b.my_print()   # y는 클래스 속성에 의해 정의되므로 a와 b에 상관없이 add됨"
   ]
  },
  {
   "cell_type": "markdown",
   "metadata": {},
   "source": [
    "#### INHERITANCE"
   ]
  },
  {
   "cell_type": "code",
   "execution_count": 18,
   "metadata": {},
   "outputs": [
    {
     "name": "stdout",
     "output_type": "stream",
     "text": [
      "6\n",
      "9\n",
      "45\n"
     ]
    }
   ],
   "source": [
    "# 클래스 MyBase의 정의(MyDeriv의 기반base / super 클래스)\n",
    "class MyBase(object):\n",
    "    coeff = 2\n",
    "    \n",
    "    def __init__(self,x):\n",
    "        self.x = x\n",
    "        \n",
    "    def mult(self):\n",
    "        return self.coeff * self.x\n",
    "\n",
    "# 클래스 MyDeriv의 정의(MyBase의 파생derived / sub 클래스)\n",
    "class MyDeriv(MyBase):\n",
    "    coeff = 3  # 속성을 재정의 overriding\n",
    "    \n",
    "    # 생성자 메서드를 재정의\n",
    "    def __init__(self, x, y):\n",
    "        super().__init__(x)  \t# 기반 클래스의 메서드 호출 예\n",
    "        self.y = y          \t# 속성 y 를 추가하여 인스턴스를 생성할 때 초기화함\n",
    "    # 새로운 메서드를 추가(메서드 mult는 상속 받았음)\n",
    "    def mult2(self):\n",
    "        return self.coeff * self.x * self.y\n",
    "\n",
    "# MyBase와 MyDeriv를 사용한 예\n",
    "a = MyBase(3)       \t # MyBase의 인스턴스를 생성\n",
    "print(a.mult())    \t # 결과는 2*3=6\n",
    "b = MyDeriv(3, 5)   \t # MyDeriv의 인스턴스 생성\n",
    "print(b.mult())     \t # 결과는 3*3=9 (상속받은 메서드 확인)\n",
    "print(b.mult2())    \t # 결과는 3*3*5=45 (새로 추가한 메서드 확인)"
   ]
  },
  {
   "cell_type": "markdown",
   "metadata": {},
   "source": [
    "#### STATIC AND CLASS METHODS"
   ]
  },
  {
   "cell_type": "code",
   "execution_count": 27,
   "metadata": {},
   "outputs": [
    {
     "data": {
      "text/plain": [
       "14"
      ]
     },
     "execution_count": 27,
     "metadata": {},
     "output_type": "execute_result"
    }
   ],
   "source": [
    "# STATIC METHOD: a method that does NOT apply to class instances\n",
    "class MyCalc(object):\n",
    "    @staticmethod\n",
    "    def my_add(x, y):\n",
    "        return x + y\n",
    "\n",
    "a = MyCalc.my_add(5, 9)  # a = 14 가 된다(MyCalc의 인스턴스를 만들지 않아도 된다)\n",
    "a"
   ]
  },
  {
   "cell_type": "code",
   "execution_count": 28,
   "metadata": {},
   "outputs": [],
   "source": [
    "import time\n",
    "\n",
    "class MyTime(object):\n",
    "    def __init__(self, hour, minutes, sec):\n",
    "        self.hour = hour\n",
    "        self.minutes = minutes\n",
    "        self.sec = sec\n",
    "\n",
    "    @staticmethod  # now()를 스태틱 메서드로 지정\n",
    "    def now():\n",
    "        t = time.localtime()\n",
    "        return MyTime(t.tm_hour, t.tm_min, t.tm_sec)\n",
    "\n",
    "    @staticmethod  # two_hours_later()를 스태틱 메서드로 지정\n",
    "    def two_hours_later():\n",
    "        t = time.localtime(time.time() + 7200)\n",
    "        return MyTime(t.tm_hour, t.tm_min, t.tm_sec)\n",
    "\n",
    "# MyTimes 클래스의 인스턴스를 3가지 방법으로 생성\n",
    "a = MyTime(15, 20, 58)  \t# __init__ 를 사용한 일반적인 방법\n",
    "b = MyTime.now()  \t\t# 스태틱 메서드를 사용한 인스턴스 생성 1\n",
    "c = MyTime.two_hours_later() \t# 스태틱 메서드를 사용한 인스턴스 생성 2"
   ]
  },
  {
   "cell_type": "code",
   "execution_count": 26,
   "metadata": {},
   "outputs": [
    {
     "data": {
      "text/plain": [
       "20"
      ]
     },
     "execution_count": 26,
     "metadata": {},
     "output_type": "execute_result"
    }
   ],
   "source": [
    "# CLASS METHOD applies to class itself, not to instance\n",
    "# CoeffVar 클래스를 정의\n",
    "class CoeffVar(object):\n",
    "    coefficient = 1\n",
    "    \n",
    "    @classmethod  # 메소드 mul을 클래스 메소드로 지정\n",
    "    def mul(cls, fact):  # 첫번째 인자는 cls이며 CoeffVar 클래스를 가리킴\n",
    "        return cls.coefficient * fact\n",
    "\n",
    "# CoeffVar 클래스를 상속하는 클래스 MulFive를 정의\n",
    "class MulFive(CoeffVar):\n",
    "    coefficient = 5\n",
    "\n",
    "x = MulFive.mul(4)  # CoeffVar.mul(MulFive, 4) -> x=20\n",
    "x"
   ]
  },
  {
   "cell_type": "code",
   "execution_count": null,
   "metadata": {},
   "outputs": [],
   "source": []
  }
 ],
 "metadata": {
  "kernelspec": {
   "display_name": "Python 3",
   "language": "python",
   "name": "python3"
  },
  "language_info": {
   "codemirror_mode": {
    "name": "ipython",
    "version": 3
   },
   "file_extension": ".py",
   "mimetype": "text/x-python",
   "name": "python",
   "nbconvert_exporter": "python",
   "pygments_lexer": "ipython3",
   "version": "3.7.0"
  }
 },
 "nbformat": 4,
 "nbformat_minor": 2
}
