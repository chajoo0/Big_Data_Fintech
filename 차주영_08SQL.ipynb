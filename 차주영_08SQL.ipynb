{
 "cells": [
  {
   "cell_type": "code",
   "execution_count": 1,
   "metadata": {},
   "outputs": [],
   "source": [
    "import sqlite3"
   ]
  },
  {
   "cell_type": "code",
   "execution_count": 31,
   "metadata": {},
   "outputs": [],
   "source": [
    "con = sqlite3.connect(':memory:')   # RAM(비영구적)에 DB 생성\n",
    "#con = sqlite3.connect('my_database.db')  # 현재 디렉토리에 DB 생성"
   ]
  },
  {
   "cell_type": "code",
   "execution_count": 32,
   "metadata": {},
   "outputs": [],
   "source": [
    "# Create a table called sales with four attributes\n",
    "query = \"\"\"CREATE TABLE sales\n",
    "        (customer VARCHAR(20),\n",
    "        product VARCHAR(40),\n",
    "        amount FLOAT,\n",
    "        date DATE);\"\"\""
   ]
  },
  {
   "cell_type": "code",
   "execution_count": 33,
   "metadata": {},
   "outputs": [],
   "source": [
    "con.execute(query)   # perform SQL commands\n",
    "con.commit()    # Save(commit) the change"
   ]
  },
  {
   "cell_type": "code",
   "execution_count": 34,
   "metadata": {},
   "outputs": [],
   "source": [
    "# insert a few rows of data into the table\n",
    "data = [('Richard Lucas', 'Notepad', 2.50, '2014-01-02'),\n",
    "       ('Jenny Kim', 'Binder', 4.15, '2014-01-15'),\n",
    "       ('Svetlana Crow', 'Printer', 155.75, '2014-02-03'),\n",
    "       ('Stephen Randolph', 'Computer', 679.40, '2014-02-20')]"
   ]
  },
  {
   "cell_type": "code",
   "execution_count": 35,
   "metadata": {},
   "outputs": [],
   "source": [
    "statement = \"INSERT INTO sales VALUES(?, ?, ?, ?)\""
   ]
  },
  {
   "cell_type": "code",
   "execution_count": 36,
   "metadata": {},
   "outputs": [],
   "source": [
    "con.executemany(statement, data)\n",
    "con.commit()"
   ]
  },
  {
   "cell_type": "code",
   "execution_count": 37,
   "metadata": {},
   "outputs": [],
   "source": [
    "# 원하는 데이터만 선택해 커서 객채 생성, 리스트로 변환\n",
    "\n",
    "cursor = con.execute(\"SELECT * FROM sales\") #모든 값 선택\n",
    "# cursor = con.execute(\"SELECT customer FROM sales WHERE product='Binder'\")\n",
    "# cursor = con.execute(\"\"\"SELECT customer, date, amount*12 FROM sales\n",
    "#                         WHERE (amount > 100) & (product='Printer')\"\"\")\n",
    "# cursor = con.execute(\"SELECT * FROM sales WHERE SUBSTR(customer,1,1)='S'\")\n",
    "rows = cursor.fetchall()  #조합된 결과 모두를 리스트 형태로 변화"
   ]
  },
  {
   "cell_type": "code",
   "execution_count": 38,
   "metadata": {},
   "outputs": [
    {
     "data": {
      "text/plain": [
       "[('Richard Lucas', 'Notepad', 2.5, '2014-01-02'),\n",
       " ('Jenny Kim', 'Binder', 4.15, '2014-01-15'),\n",
       " ('Svetlana Crow', 'Printer', 155.75, '2014-02-03'),\n",
       " ('Stephen Randolph', 'Computer', 679.4, '2014-02-20')]"
      ]
     },
     "execution_count": 38,
     "metadata": {},
     "output_type": "execute_result"
    }
   ],
   "source": [
    "rows"
   ]
  },
  {
   "cell_type": "code",
   "execution_count": 39,
   "metadata": {},
   "outputs": [
    {
     "name": "stdout",
     "output_type": "stream",
     "text": [
      "('Richard Lucas', 'Notepad', 2.5, '2014-01-02')\n",
      "('Jenny Kim', 'Binder', 4.15, '2014-01-15')\n",
      "('Svetlana Crow', 'Printer', 155.75, '2014-02-03')\n",
      "('Stephen Randolph', 'Computer', 679.4, '2014-02-20')\n",
      "Number of rows: 4\n"
     ]
    }
   ],
   "source": [
    "row_counter = 0\n",
    "for row in rows:\n",
    "    print(row)\n",
    "    row_counter += 1\n",
    "print('Number of rows: {}'.format(row_counter))"
   ]
  },
  {
   "cell_type": "markdown",
   "metadata": {},
   "source": [
    "### 테이블에 새 레코드 삽입하기"
   ]
  },
  {
   "cell_type": "code",
   "execution_count": 40,
   "metadata": {},
   "outputs": [],
   "source": [
    "import csv\n",
    "import sqlite3"
   ]
  },
  {
   "cell_type": "code",
   "execution_count": 41,
   "metadata": {},
   "outputs": [],
   "source": [
    "input_file = 'supplier_data.csv'"
   ]
  },
  {
   "cell_type": "code",
   "execution_count": 42,
   "metadata": {},
   "outputs": [],
   "source": [
    "con = sqlite3.connect('Suppliers.db')\n",
    "c = con.cursor()"
   ]
  },
  {
   "cell_type": "code",
   "execution_count": 43,
   "metadata": {},
   "outputs": [],
   "source": [
    "create_table = \"\"\"CREATE TABLE IF NOT EXISTS Suppliers\n",
    "                (Supplier_Name VARCHAR(20),\n",
    "                Invoice_number VARCHAR(20),\n",
    "                Part_Number VARCHAR(20),\n",
    "                Cost FLOAT,\n",
    "                Purchase_Date DATE);\"\"\""
   ]
  },
  {
   "cell_type": "code",
   "execution_count": 44,
   "metadata": {},
   "outputs": [],
   "source": [
    "c.execute(create_table)\n",
    "con.commit()"
   ]
  },
  {
   "cell_type": "code",
   "execution_count": 45,
   "metadata": {},
   "outputs": [],
   "source": [
    "file_reader = csv.reader(open(input_file, 'r'), delimiter = ',')\n",
    "header = next(file_reader, None)  # 입력 파일의 첫 iteration 읽고 값 할당 후 넘김"
   ]
  },
  {
   "cell_type": "code",
   "execution_count": 46,
   "metadata": {
    "scrolled": true
   },
   "outputs": [
    {
     "name": "stdout",
     "output_type": "stream",
     "text": [
      "['Supplier X', '001-1001', '2341', '$500.00', '1/20/14']\n",
      "['Supplier X', '001-1001', '2341', '$500.00', '1/20/14']\n",
      "['Supplier X', '001-1001', '5467', '$750.00', '1/20/14']\n",
      "['Supplier X', '001-1001', '5467', '$750.00', '1/20/14']\n",
      "['Supplier Y', '50-9501', '7009', '$250.00', '1/30/14']\n",
      "['Supplier Y', '50-9501', '7009', '$250.00', '1/30/14']\n",
      "['Supplier Y', '50-9505', '6650', '$125.00', '2/3/14']\n",
      "['Supplier Y', '50-9505', '6650', '$125.00', '2/3/14']\n",
      "['Supplier Z', '920-4803', '3321', '$615.00', '2/3/14']\n",
      "['Supplier Z', '920-4804', '3321', '$615.00', '2/10/14']\n",
      "['Supplier Z', '920-4805', '3321', '$615.00', '2/17/14']\n",
      "['Supplier Z', '920-4806', '3321', '$615.00', '2/24/14']\n"
     ]
    }
   ],
   "source": [
    "for row in file_reader:\n",
    "    data = []\n",
    "    for column_index in range(len(header)):\n",
    "        data.append(row[column_index])\n",
    "    print(data)\n",
    "    c.execute(\"INSERT INTO Suppliers VALUES (?, ?, ?, ?, ?);\", data)\n",
    "con.commit()"
   ]
  },
  {
   "cell_type": "markdown",
   "metadata": {},
   "source": [
    "Check!"
   ]
  },
  {
   "cell_type": "code",
   "execution_count": 52,
   "metadata": {},
   "outputs": [],
   "source": [
    "output = c.execute(\"SELECT * FROM Suppliers\")\n",
    "rows = output.fetchall()"
   ]
  },
  {
   "cell_type": "code",
   "execution_count": 53,
   "metadata": {
    "scrolled": true
   },
   "outputs": [
    {
     "name": "stdout",
     "output_type": "stream",
     "text": [
      "['Supplier X', '001-1001', '2341', '$500.00', '1/20/14']\n",
      "['Supplier X', '001-1001', '2341', '$500.00', '1/20/14']\n",
      "['Supplier X', '001-1001', '5467', '$750.00', '1/20/14']\n",
      "['Supplier X', '001-1001', '5467', '$750.00', '1/20/14']\n",
      "['Supplier Y', '50-9501', '7009', '$250.00', '1/30/14']\n",
      "['Supplier Y', '50-9501', '7009', '$250.00', '1/30/14']\n",
      "['Supplier Y', '50-9505', '6650', '$125.00', '2/3/14']\n",
      "['Supplier Y', '50-9505', '6650', '$125.00', '2/3/14']\n",
      "['Supplier Z', '920-4803', '3321', '$615.00', '2/3/14']\n",
      "['Supplier Z', '920-4804', '3321', '$615.00', '2/10/14']\n",
      "['Supplier Z', '920-4805', '3321', '$615.00', '2/17/14']\n",
      "['Supplier Z', '920-4806', '3321', '$615.00', '2/24/14']\n"
     ]
    }
   ],
   "source": [
    "for row in rows:\n",
    "    output = []\n",
    "    for column_index in range(len(row)):\n",
    "        output.append(str(row[column_index]))\n",
    "    print(output)"
   ]
  },
  {
   "cell_type": "markdown",
   "metadata": {},
   "source": [
    "### UPDATING"
   ]
  },
  {
   "cell_type": "code",
   "execution_count": 47,
   "metadata": {},
   "outputs": [],
   "source": [
    "input_file = 'data_for_updating.csv'"
   ]
  },
  {
   "cell_type": "code",
   "execution_count": 54,
   "metadata": {},
   "outputs": [],
   "source": [
    "con = sqlite3.connect(':memory:')\n",
    "query = \"\"\"CREATE TABLE IF NOT EXISTS sales\n",
    "            (customer VARCHAR(20),\n",
    "            product VARCHAR(20),\n",
    "            amount FLOAT,\n",
    "            date DATE);\"\"\"\n",
    "con.execute(query)\n",
    "con.commit()"
   ]
  },
  {
   "cell_type": "code",
   "execution_count": 55,
   "metadata": {},
   "outputs": [],
   "source": [
    "data = [('Richard Lucas', 'Notepad', 2.50, '2014-01-02'),\n",
    "       ('Jenny Kim', 'Binder', 4.15, '2014-01-15'),\n",
    "       ('Svetlana Crow', 'Printer', 155.75, '2014-02-03'),\n",
    "       ('Stephen Randolph', 'Computer', 679.40, '2014-02-20')]"
   ]
  },
  {
   "cell_type": "code",
   "execution_count": 56,
   "metadata": {},
   "outputs": [
    {
     "name": "stdout",
     "output_type": "stream",
     "text": [
      "('Richard Lucas', 'Notepad', 2.5, '2014-01-02')\n",
      "('Jenny Kim', 'Binder', 4.15, '2014-01-15')\n",
      "('Svetlana Crow', 'Printer', 155.75, '2014-02-03')\n",
      "('Stephen Randolph', 'Computer', 679.4, '2014-02-20')\n"
     ]
    }
   ],
   "source": [
    "for tuple in data:\n",
    "    print(tuple)"
   ]
  },
  {
   "cell_type": "code",
   "execution_count": 57,
   "metadata": {},
   "outputs": [],
   "source": [
    "statement = \"INSERT INTO sales VALUES(?, ?, ?, ?)\"\n",
    "con.executemany(statement, data)\n",
    "con.commit()"
   ]
  },
  {
   "cell_type": "code",
   "execution_count": 58,
   "metadata": {},
   "outputs": [],
   "source": [
    "file_reader = csv.reader(open(input_file, 'r'), delimiter=',')\n",
    "header = next(file_reader, None)"
   ]
  },
  {
   "cell_type": "code",
   "execution_count": 60,
   "metadata": {},
   "outputs": [],
   "source": [
    "for row in file_reader:\n",
    "    data = []\n",
    "    for column_index in range(len(header)):\n",
    "        data.append(row[column_index])\n",
    "    print(data)\n",
    "    con.execute(\"UPDATE sales SET amount=?, date=? WHERE customer=?;\", data)\n",
    "con.commit()"
   ]
  },
  {
   "cell_type": "code",
   "execution_count": 61,
   "metadata": {},
   "outputs": [],
   "source": [
    "cursor = con.execute(\"SELECT * FROM sales\")\n",
    "rows = cursor.fetchall()"
   ]
  },
  {
   "cell_type": "code",
   "execution_count": 62,
   "metadata": {},
   "outputs": [
    {
     "name": "stdout",
     "output_type": "stream",
     "text": [
      "['Richard Lucas', 'Notepad', '4.25', '5/11/2014']\n",
      "['Jenny Kim', 'Binder', '6.75', '5/12/2014']\n",
      "['Svetlana Crow', 'Printer', '155.75', '2014-02-03']\n",
      "['Stephen Randolph', 'Computer', '679.4', '2014-02-20']\n"
     ]
    }
   ],
   "source": [
    "for row in rows:\n",
    "    output = []\n",
    "    for column_index in range(len(row)):\n",
    "        output.append(str(row[column_index]))\n",
    "    print(output)"
   ]
  },
  {
   "cell_type": "code",
   "execution_count": 9,
   "metadata": {},
   "outputs": [],
   "source": [
    "import csv\n",
    "from datetime import datetime, date"
   ]
  },
  {
   "cell_type": "code",
   "execution_count": 10,
   "metadata": {},
   "outputs": [],
   "source": [
    "input_file = 'supplier_data.csv'"
   ]
  },
  {
   "cell_type": "code",
   "execution_count": 23,
   "metadata": {
    "scrolled": true
   },
   "outputs": [],
   "source": [
    "import pymysql as db\n",
    "con = db.connect(host = 'localhost', port=3306,\n",
    "                user='root', password='cha9212',\n",
    "                db='my_suppliers', charset = 'utf8')\n",
    "c = con.cursor()"
   ]
  },
  {
   "cell_type": "code",
   "execution_count": 14,
   "metadata": {},
   "outputs": [],
   "source": [
    "file_reader = csv.reader(open(input_file, 'r'), delimiter=',')\n",
    "header=next(file_reader)"
   ]
  },
  {
   "cell_type": "code",
   "execution_count": 15,
   "metadata": {},
   "outputs": [
    {
     "name": "stdout",
     "output_type": "stream",
     "text": [
      "['Supplier X', '001-1001', '2341', '500.00', '2014-01-20']\n",
      "['Supplier X', '001-1001', '2341', '500.00', '2014-01-20']\n",
      "['Supplier X', '001-1001', '5467', '750.00', '2014-01-20']\n",
      "['Supplier X', '001-1001', '5467', '750.00', '2014-01-20']\n",
      "['Supplier Y', '50-9501', '7009', '250.00', '2014-01-30']\n",
      "['Supplier Y', '50-9501', '7009', '250.00', '2014-01-30']\n",
      "['Supplier Y', '50-9505', '6650', '125.00', '2014-02-03']\n",
      "['Supplier Y', '50-9505', '6650', '125.00', '2014-02-03']\n",
      "['Supplier Z', '920-4803', '3321', '615.00', '2014-02-03']\n",
      "['Supplier Z', '920-4804', '3321', '615.00', '2014-02-10']\n",
      "['Supplier Z', '920-4805', '3321', '615.00', '2014-02-17']\n",
      "['Supplier Z', '920-4806', '3321', '615.00', '2014-02-24']\n"
     ]
    }
   ],
   "source": [
    "for row in file_reader:\n",
    "    data = []\n",
    "    for column_index in range(len(header)):\n",
    "        if column_index < 4:\n",
    "            data.append(str(row[column_index]).lstrip('$')\\\n",
    "                       .replace(',', '').strip())\n",
    "        else:\n",
    "            a_date = datetime.date(datetime.strptime(\\\n",
    "            str(row[column_index]), '%m/%d/%y'))\n",
    "            # %Y: year is 2018, %y: year is 15\n",
    "            a_date = a_date.strftime('%Y-%m-%d')\n",
    "            data.append(a_date)\n",
    "    print(data)\n",
    "    c.execute(\"\"\"INSERT INTO Suppliers VALUES (%s, %s, %s, %s, %s);\"\"\", data)\n",
    "con.commit()"
   ]
  },
  {
   "cell_type": "code",
   "execution_count": 16,
   "metadata": {},
   "outputs": [],
   "source": [
    "c.execute(\"SELECT * FROM Suppliers\")\n",
    "rows = c.fetchall()"
   ]
  },
  {
   "cell_type": "code",
   "execution_count": 17,
   "metadata": {},
   "outputs": [
    {
     "name": "stdout",
     "output_type": "stream",
     "text": [
      "['Supplier X', '001-1001', '2341', '500.0', '2014-01-20']\n",
      "['Supplier X', '001-1001', '2341', '500.0', '2014-01-20']\n",
      "['Supplier X', '001-1001', '5467', '750.0', '2014-01-20']\n",
      "['Supplier X', '001-1001', '5467', '750.0', '2014-01-20']\n",
      "['Supplier Y', '50-9501', '7009', '250.0', '2014-01-30']\n",
      "['Supplier Y', '50-9501', '7009', '250.0', '2014-01-30']\n",
      "['Supplier Y', '50-9505', '6650', '125.0', '2014-02-03']\n",
      "['Supplier Y', '50-9505', '6650', '125.0', '2014-02-03']\n",
      "['Supplier Z', '920-4803', '3321', '615.0', '2014-02-03']\n",
      "['Supplier Z', '920-4804', '3321', '615.0', '2014-02-10']\n",
      "['Supplier Z', '920-4805', '3321', '615.0', '2014-02-17']\n",
      "['Supplier Z', '920-4806', '3321', '615.0', '2014-02-24']\n"
     ]
    }
   ],
   "source": [
    "for row in rows:\n",
    "    row_list_output = []\n",
    "    for column_index in range(len(row)):\n",
    "        row_list_output.append(str(row[column_index]))\n",
    "    print(row_list_output)"
   ]
  },
  {
   "cell_type": "code",
   "execution_count": 24,
   "metadata": {
    "scrolled": true
   },
   "outputs": [],
   "source": [
    "import MySQLdb"
   ]
  },
  {
   "cell_type": "code",
   "execution_count": 25,
   "metadata": {},
   "outputs": [],
   "source": [
    "output_file = '5output.csv'"
   ]
  },
  {
   "cell_type": "code",
   "execution_count": 27,
   "metadata": {},
   "outputs": [],
   "source": [
    "con = MySQLdb.connect(host='localhost', port=3306, db='my_suppliers', \\\n",
    "                     user='root', passwd='cha9212')\n",
    "c=con.cursor()"
   ]
  },
  {
   "cell_type": "code",
   "execution_count": 29,
   "metadata": {},
   "outputs": [
    {
     "data": {
      "text/plain": [
       "61"
      ]
     },
     "execution_count": 29,
     "metadata": {},
     "output_type": "execute_result"
    }
   ],
   "source": [
    "filewriter = csv.writer(open(output_file,'w',newline=''),delimiter=',')\n",
    "header=['Supplier Name', 'Invoice Number', 'Part Number', 'Cost', 'Purchase Date']\n",
    "filewriter.writerow(header)"
   ]
  },
  {
   "cell_type": "code",
   "execution_count": 30,
   "metadata": {},
   "outputs": [
    {
     "data": {
      "text/plain": [
       "2"
      ]
     },
     "execution_count": 30,
     "metadata": {},
     "output_type": "execute_result"
    }
   ],
   "source": [
    "c.execute(\"\"\"SELECT *\n",
    "        FROM Suppliers\n",
    "        WHERE Cost > 700.0;\"\"\")"
   ]
  },
  {
   "cell_type": "code",
   "execution_count": 31,
   "metadata": {},
   "outputs": [],
   "source": [
    "rows = c.fetchall()\n",
    "for row in rows:\n",
    "    filewriter.writerow(row)"
   ]
  },
  {
   "cell_type": "markdown",
   "metadata": {},
   "source": [
    "테이블 내 레코드 갱신"
   ]
  },
  {
   "cell_type": "code",
   "execution_count": 32,
   "metadata": {},
   "outputs": [],
   "source": [
    "input_file = 'data_for_updating_mysql.csv'"
   ]
  },
  {
   "cell_type": "code",
   "execution_count": 34,
   "metadata": {},
   "outputs": [],
   "source": [
    "con = MySQLdb.connect(host='localhost', port=3306, db='my_suppliers', \\\n",
    "                     user='root', passwd='cha9212')\n",
    "c = con.cursor()"
   ]
  },
  {
   "cell_type": "code",
   "execution_count": 36,
   "metadata": {},
   "outputs": [],
   "source": [
    "file_reader = csv.reader(open(input_file, 'r', newline = ''), delimiter= ',')\n",
    "header = next(file_reader, None)"
   ]
  },
  {
   "cell_type": "code",
   "execution_count": 37,
   "metadata": {},
   "outputs": [
    {
     "name": "stdout",
     "output_type": "stream",
     "text": [
      "['600.00', '2014-01-22', 'Supplier X']\n",
      "['200.00', '2014-02-01', 'Supplier Y']\n"
     ]
    }
   ],
   "source": [
    "for row in file_reader:\n",
    "    data = []\n",
    "    for column_index in range(len(header)):\n",
    "        data.append(str(row[column_index]).strip())\n",
    "    print(data)\n",
    "    c.execute(\"\"\"UPDATE Suppliers SET Cost=%s, Purchase_Date=%s WHERE Supplier_Name=%s;\"\"\", data)\n",
    "con.commit()"
   ]
  },
  {
   "cell_type": "code",
   "execution_count": 38,
   "metadata": {},
   "outputs": [],
   "source": [
    "c.execute(\"SELECT * FROM Suppliers\")\n",
    "rows = c.fetchall()"
   ]
  },
  {
   "cell_type": "code",
   "execution_count": 39,
   "metadata": {},
   "outputs": [
    {
     "name": "stdout",
     "output_type": "stream",
     "text": [
      "['Supplier X', '001-1001', '2341', '600.0', '2014-01-22']\n",
      "['Supplier X', '001-1001', '2341', '600.0', '2014-01-22']\n",
      "['Supplier X', '001-1001', '5467', '600.0', '2014-01-22']\n",
      "['Supplier X', '001-1001', '5467', '600.0', '2014-01-22']\n",
      "['Supplier Y', '50-9501', '7009', '200.0', '2014-02-01']\n",
      "['Supplier Y', '50-9501', '7009', '200.0', '2014-02-01']\n",
      "['Supplier Y', '50-9505', '6650', '200.0', '2014-02-01']\n",
      "['Supplier Y', '50-9505', '6650', '200.0', '2014-02-01']\n",
      "['Supplier Z', '920-4803', '3321', '615.0', '2014-02-03']\n",
      "['Supplier Z', '920-4804', '3321', '615.0', '2014-02-10']\n",
      "['Supplier Z', '920-4805', '3321', '615.0', '2014-02-17']\n",
      "['Supplier Z', '920-4806', '3321', '615.0', '2014-02-24']\n"
     ]
    }
   ],
   "source": [
    "for row in rows:\n",
    "    output=[]\n",
    "    for column_index in range(len(row)):\n",
    "        output.append(str(row[column_index]))\n",
    "    print(output)"
   ]
  },
  {
   "cell_type": "code",
   "execution_count": null,
   "metadata": {},
   "outputs": [],
   "source": []
  }
 ],
 "metadata": {
  "kernelspec": {
   "display_name": "Python 3",
   "language": "python",
   "name": "python3"
  },
  "language_info": {
   "codemirror_mode": {
    "name": "ipython",
    "version": 3
   },
   "file_extension": ".py",
   "mimetype": "text/x-python",
   "name": "python",
   "nbconvert_exporter": "python",
   "pygments_lexer": "ipython3",
   "version": "3.7.0"
  }
 },
 "nbformat": 4,
 "nbformat_minor": 2
}
