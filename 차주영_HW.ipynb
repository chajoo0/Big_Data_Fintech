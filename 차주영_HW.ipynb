{
 "cells": [
  {
   "cell_type": "code",
   "execution_count": 2,
   "metadata": {},
   "outputs": [],
   "source": [
    "import pandas as pd\n",
    "import numpy as np\n",
    "import matplotlib as mpl\n",
    "import matplotlib.pyplot as plt\n",
    "import scipy as sp           \n",
    "from scipy import stats"
   ]
  },
  {
   "cell_type": "code",
   "execution_count": 3,
   "metadata": {},
   "outputs": [
    {
     "data": {
      "text/html": [
       "<div>\n",
       "<style scoped>\n",
       "    .dataframe tbody tr th:only-of-type {\n",
       "        vertical-align: middle;\n",
       "    }\n",
       "\n",
       "    .dataframe tbody tr th {\n",
       "        vertical-align: top;\n",
       "    }\n",
       "\n",
       "    .dataframe thead th {\n",
       "        text-align: right;\n",
       "    }\n",
       "</style>\n",
       "<table border=\"1\" class=\"dataframe\">\n",
       "  <thead>\n",
       "    <tr style=\"text-align: right;\">\n",
       "      <th></th>\n",
       "      <th>Open</th>\n",
       "      <th>High</th>\n",
       "      <th>Low</th>\n",
       "      <th>Close</th>\n",
       "      <th>Adj Close</th>\n",
       "      <th>Volume</th>\n",
       "    </tr>\n",
       "  </thead>\n",
       "  <tbody>\n",
       "    <tr>\n",
       "      <th>count</th>\n",
       "      <td>2264.000000</td>\n",
       "      <td>2264.000000</td>\n",
       "      <td>2264.000000</td>\n",
       "      <td>2264.000000</td>\n",
       "      <td>2264.000000</td>\n",
       "      <td>2.264000e+03</td>\n",
       "    </tr>\n",
       "    <tr>\n",
       "      <th>mean</th>\n",
       "      <td>99.402996</td>\n",
       "      <td>100.274305</td>\n",
       "      <td>98.472527</td>\n",
       "      <td>99.390734</td>\n",
       "      <td>88.966260</td>\n",
       "      <td>8.013572e+07</td>\n",
       "    </tr>\n",
       "    <tr>\n",
       "      <th>std</th>\n",
       "      <td>46.774423</td>\n",
       "      <td>47.169053</td>\n",
       "      <td>46.394922</td>\n",
       "      <td>46.783957</td>\n",
       "      <td>52.047819</td>\n",
       "      <td>5.966188e+07</td>\n",
       "    </tr>\n",
       "    <tr>\n",
       "      <th>min</th>\n",
       "      <td>27.481428</td>\n",
       "      <td>28.000000</td>\n",
       "      <td>27.178572</td>\n",
       "      <td>27.435715</td>\n",
       "      <td>18.372683</td>\n",
       "      <td>1.147590e+07</td>\n",
       "    </tr>\n",
       "    <tr>\n",
       "      <th>25%</th>\n",
       "      <td>61.632856</td>\n",
       "      <td>62.176427</td>\n",
       "      <td>60.926072</td>\n",
       "      <td>61.468929</td>\n",
       "      <td>45.855141</td>\n",
       "      <td>3.441850e+07</td>\n",
       "    </tr>\n",
       "    <tr>\n",
       "      <th>50%</th>\n",
       "      <td>94.619999</td>\n",
       "      <td>95.532142</td>\n",
       "      <td>93.599998</td>\n",
       "      <td>94.480003</td>\n",
       "      <td>86.628483</td>\n",
       "      <td>6.340480e+07</td>\n",
       "    </tr>\n",
       "    <tr>\n",
       "      <th>75%</th>\n",
       "      <td>125.912501</td>\n",
       "      <td>126.834999</td>\n",
       "      <td>124.852499</td>\n",
       "      <td>125.817503</td>\n",
       "      <td>118.175861</td>\n",
       "      <td>1.076744e+08</td>\n",
       "    </tr>\n",
       "    <tr>\n",
       "      <th>max</th>\n",
       "      <td>230.779999</td>\n",
       "      <td>233.470001</td>\n",
       "      <td>229.779999</td>\n",
       "      <td>232.070007</td>\n",
       "      <td>231.263092</td>\n",
       "      <td>4.702495e+08</td>\n",
       "    </tr>\n",
       "  </tbody>\n",
       "</table>\n",
       "</div>"
      ],
      "text/plain": [
       "              Open         High          Low        Close    Adj Close  \\\n",
       "count  2264.000000  2264.000000  2264.000000  2264.000000  2264.000000   \n",
       "mean     99.402996   100.274305    98.472527    99.390734    88.966260   \n",
       "std      46.774423    47.169053    46.394922    46.783957    52.047819   \n",
       "min      27.481428    28.000000    27.178572    27.435715    18.372683   \n",
       "25%      61.632856    62.176427    60.926072    61.468929    45.855141   \n",
       "50%      94.619999    95.532142    93.599998    94.480003    86.628483   \n",
       "75%     125.912501   126.834999   124.852499   125.817503   118.175861   \n",
       "max     230.779999   233.470001   229.779999   232.070007   231.263092   \n",
       "\n",
       "             Volume  \n",
       "count  2.264000e+03  \n",
       "mean   8.013572e+07  \n",
       "std    5.966188e+07  \n",
       "min    1.147590e+07  \n",
       "25%    3.441850e+07  \n",
       "50%    6.340480e+07  \n",
       "75%    1.076744e+08  \n",
       "max    4.702495e+08  "
      ]
     },
     "execution_count": 3,
     "metadata": {},
     "output_type": "execute_result"
    }
   ],
   "source": [
    "data = pd.read_csv('AAPL.csv')\n",
    "data.describe()"
   ]
  },
  {
   "cell_type": "code",
   "execution_count": 4,
   "metadata": {},
   "outputs": [
    {
     "data": {
      "text/plain": [
       "count    2264.000000\n",
       "mean       99.390734\n",
       "std        46.783957\n",
       "min        27.435715\n",
       "25%        61.468929\n",
       "50%        94.480003\n",
       "75%       125.817503\n",
       "max       232.070007\n",
       "Name: Close, dtype: float64"
      ]
     },
     "execution_count": 4,
     "metadata": {},
     "output_type": "execute_result"
    }
   ],
   "source": [
    "data.Close.describe()"
   ]
  },
  {
   "cell_type": "code",
   "execution_count": 5,
   "metadata": {
    "scrolled": true
   },
   "outputs": [
    {
     "data": {
      "text/plain": [
       "array([ 0.468571,  0.052856, -0.487142, ..., -1.020004,  0.080002,\n",
       "        0.      ])"
      ]
     },
     "execution_count": 5,
     "metadata": {},
     "output_type": "execute_result"
    }
   ],
   "source": [
    "close = data.Close\n",
    "ret = np.zeros(2264)\n",
    "for i in range(2263):\n",
    "    ret[i] = close[i+1] - close[i]\n",
    "ret"
   ]
  },
  {
   "cell_type": "code",
   "execution_count": 6,
   "metadata": {},
   "outputs": [
    {
     "data": {
      "text/plain": [
       "0             NaN\n",
       "1        0.468571\n",
       "2        0.052856\n",
       "3       -0.487142\n",
       "4       -0.055714\n",
       "5        0.200001\n",
       "6       -0.267143\n",
       "7       -0.341429\n",
       "8        0.418571\n",
       "9       -0.174286\n",
       "10      -0.500000\n",
       "11       1.301428\n",
       "12      -0.472856\n",
       "13      -0.522858\n",
       "14      -1.474285\n",
       "15       0.760000\n",
       "16       0.410000\n",
       "17       0.277144\n",
       "18      -1.227145\n",
       "19      -1.032856\n",
       "20       0.381428\n",
       "21       0.161429\n",
       "22       0.481428\n",
       "23      -1.025713\n",
       "24       0.487142\n",
       "25      -0.191429\n",
       "26       0.295715\n",
       "27      -0.152856\n",
       "28       0.507141\n",
       "29       0.244285\n",
       "          ...    \n",
       "2234    -5.429993\n",
       "2235     4.610001\n",
       "2236     2.119995\n",
       "2237    -7.669998\n",
       "2238    -8.880005\n",
       "2239    -0.199997\n",
       "2240    -4.490006\n",
       "2241     2.330002\n",
       "2242    -0.379990\n",
       "2243     6.699997\n",
       "2244    -1.389999\n",
       "2245    -0.970001\n",
       "2246     6.240005\n",
       "2247    -8.130005\n",
       "2248    -1.970001\n",
       "2249    -6.229996\n",
       "2250     1.110001\n",
       "2251    -0.970001\n",
       "2252     0.470001\n",
       "2253     1.849991\n",
       "2254    -5.470001\n",
       "2255    -1.539994\n",
       "2256     2.130005\n",
       "2257    -5.180008\n",
       "2258    -4.059997\n",
       "2259    -6.100006\n",
       "2260    -3.899994\n",
       "2261    10.339996\n",
       "2262    -1.020004\n",
       "2263     0.080002\n",
       "Name: Close, Length: 2264, dtype: float64"
      ]
     },
     "execution_count": 6,
     "metadata": {},
     "output_type": "execute_result"
    }
   ],
   "source": [
    "close.diff()"
   ]
  },
  {
   "cell_type": "code",
   "execution_count": 7,
   "metadata": {},
   "outputs": [
    {
     "data": {
      "text/plain": [
       "count    2263.000000\n",
       "mean        0.000728\n",
       "std         0.016212\n",
       "min        -0.131885\n",
       "25%        -0.007056\n",
       "50%         0.000676\n",
       "75%         0.009584\n",
       "max         0.085022\n",
       "Name: Close, dtype: float64"
      ]
     },
     "execution_count": 7,
     "metadata": {},
     "output_type": "execute_result"
    }
   ],
   "source": [
    "# 일별 수익률\n",
    "\n",
    "log_returns = np.log(data.Close).diff()\n",
    "log_returns.describe()"
   ]
  },
  {
   "cell_type": "code",
   "execution_count": 8,
   "metadata": {},
   "outputs": [
    {
     "data": {
      "text/plain": [
       "(0.0007276454711338528, 0.016212433100095347)"
      ]
     },
     "execution_count": 8,
     "metadata": {},
     "output_type": "execute_result"
    }
   ],
   "source": [
    "# 새로운 obj에 parameter methods 저장\n",
    "\n",
    "mu = log_returns.mean()\n",
    "sigma = log_returns.std()\n",
    "mu, sigma"
   ]
  },
  {
   "cell_type": "code",
   "execution_count": 10,
   "metadata": {
    "scrolled": true
   },
   "outputs": [
    {
     "data": {
      "image/png": "[encoded data removed]",
      "text/plain": [
       "<Figure size 432x288 with 1 Axes>"
      ]
     },
     "metadata": {
      "needs_background": "light"
     },
     "output_type": "display_data"
    }
   ],
   "source": [
    "rv = stats.norm(loc= mu, scale= sigma) #애플주식과 같은 mean,std가진 정규분포 생성\n",
    "r = stats.norm.rvs(loc= mu, scale= sigma,size=3000)  #위의 통계 분포 함수로 확률 변수 생성\n",
    "x = np.linspace(rv.ppf(0.01), rv.ppf(0.99), 100)  #확률밀도 그래프를 위한 100개 점\n",
    "\n",
    "fig, ax = plt.subplots(1, 1)\n",
    "x = np.linspace(rv.ppf(0.01), rv.ppf(0.99), 100)\n",
    "ax.plot(x, rv.pdf(x), 'r-', lw=3, alpha=0.6, label='Normal pdf')\n",
    "log_returns.hist(bins = 30, label=\"AAPL\", histtype = 'barstacked',\n",
    "                 density = True, alpha = 0.5)\n",
    "plt.legend(loc='upper left')\n",
    "plt.show()"
   ]
  },
  {
   "cell_type": "code",
   "execution_count": null,
   "metadata": {},
   "outputs": [],
   "source": []
  }
 ],
 "metadata": {
  "kernelspec": {
   "display_name": "Python 3",
   "language": "python",
   "name": "python3"
  },
  "language_info": {
   "codemirror_mode": {
    "name": "ipython",
    "version": 3
   },
   "file_extension": ".py",
   "mimetype": "text/x-python",
   "name": "python",
   "nbconvert_exporter": "python",
   "pygments_lexer": "ipython3",
   "version": "3.7.0"
  }
 },
 "nbformat": 4,
 "nbformat_minor": 2
}
