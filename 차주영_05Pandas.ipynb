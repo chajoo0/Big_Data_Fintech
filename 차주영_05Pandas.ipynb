{
 "cells": [
  {
   "cell_type": "markdown",
   "metadata": {},
   "source": [
    "# Lec05: Pandas"
   ]
  },
  {
   "cell_type": "code",
   "execution_count": 1,
   "metadata": {
    "collapsed": true
   },
   "outputs": [],
   "source": [
    "import pandas as pd"
   ]
  },
  {
   "cell_type": "code",
   "execution_count": null,
   "metadata": {
    "collapsed": true
   },
   "outputs": [],
   "source": [
    "# # input_file은 불러오려는 CSV 파일의 경로\n",
    "# data_frame = pd.read_csv(input_file)\n",
    "\n",
    "# # input_file은 불려오려는 EXCEL 파일의 경로\n",
    "# data_frame = pd.read_excel(input_file, sheetname, header)"
   ]
  },
  {
   "cell_type": "code",
   "execution_count": 3,
   "metadata": {},
   "outputs": [],
   "source": [
    "raw_data = { 'col0' : [1, 2, 3, 4],\n",
    "            'col1' : [5, 6, 7, 8],\n",
    "            'col2' : [9, 10, 11, 12]}\n",
    "\n",
    "data_frame = pd.DataFrame(raw_data)"
   ]
  },
  {
   "cell_type": "code",
   "execution_count": 4,
   "metadata": {},
   "outputs": [
    {
     "name": "stdout",
     "output_type": "stream",
     "text": [
      "   col0  col1  col2\n",
      "0     1     5     9\n",
      "1     2     6    10\n",
      "2     3     7    11\n",
      "3     4     8    12\n"
     ]
    }
   ],
   "source": [
    "print(data_frame)"
   ]
  },
  {
   "cell_type": "code",
   "execution_count": 5,
   "metadata": {
    "collapsed": true
   },
   "outputs": [],
   "source": [
    "data_frame = pd.DataFrame([\n",
    "    [1, 2, 3],\n",
    "    [4, 5 ,6],\n",
    "    [7, 8, 9],\n",
    "])"
   ]
  },
  {
   "cell_type": "code",
   "execution_count": 6,
   "metadata": {},
   "outputs": [
    {
     "name": "stdout",
     "output_type": "stream",
     "text": [
      "   0  1  2\n",
      "0  1  2  3\n",
      "1  4  5  6\n",
      "2  7  8  9\n"
     ]
    }
   ],
   "source": [
    "print(data_frame)"
   ]
  },
  {
   "cell_type": "code",
   "execution_count": 9,
   "metadata": {},
   "outputs": [],
   "source": [
    "#output_file은 출력하려는 CSV 파일의 경로\n",
    "data_frame.to_csv('output_file', sep = ',', index=False)"
   ]
  },
  {
   "cell_type": "code",
   "execution_count": 10,
   "metadata": {},
   "outputs": [
    {
     "data": {
      "text/plain": [
       "0     1\n",
       "1     3\n",
       "2     6\n",
       "3    12\n",
       "dtype: int64"
      ]
     },
     "execution_count": 10,
     "metadata": {},
     "output_type": "execute_result"
    }
   ],
   "source": [
    "dat = pd.Series([1,3,6,12])\n",
    "dat"
   ]
  },
  {
   "cell_type": "code",
   "execution_count": 11,
   "metadata": {},
   "outputs": [
    {
     "data": {
      "text/plain": [
       "array([ 1,  3,  6, 12], dtype=int64)"
      ]
     },
     "execution_count": 11,
     "metadata": {},
     "output_type": "execute_result"
    }
   ],
   "source": [
    "dat.values"
   ]
  },
  {
   "cell_type": "code",
   "execution_count": 15,
   "metadata": {},
   "outputs": [
    {
     "name": "stdout",
     "output_type": "stream",
     "text": [
      "0     1.0\n",
      "1     3.0\n",
      "2     NaN\n",
      "3    12.0\n",
      "dtype: float64 0    aa\n",
      "1    bb\n",
      "2     c\n",
      "3     d\n",
      "dtype: object 0       1\n",
      "1      aa\n",
      "2    2.34\n",
      "3       d\n",
      "dtype: object\n"
     ]
    }
   ],
   "source": [
    "import numpy as np\n",
    "dat2 = pd.Series(np.array([1,3,np.nan,12]))\n",
    "dat3 = pd.Series(['aa', 'bb', 'c', 'd'])\n",
    "dat4 = pd.Series([1, 'aa', 2.34, 'd'])\n",
    "print(dat2, dat3, dat4)"
   ]
  },
  {
   "cell_type": "code",
   "execution_count": 13,
   "metadata": {},
   "outputs": [
    {
     "name": "stdout",
     "output_type": "stream",
     "text": [
      "1      1\n",
      "10     3\n",
      "20     6\n",
      "33    12\n",
      "dtype: int64\n",
      "a     1\n",
      "b     3\n",
      "c     6\n",
      "a    12\n",
      "dtype: int64\n",
      "a     1\n",
      "b     3\n",
      "c     6\n",
      "d    12\n",
      "dtype: int64\n"
     ]
    }
   ],
   "source": [
    "dat5 = pd.Series([1,3,6,12], index=[1, 10, 20, 33])\n",
    "dat6 = pd.Series([1,3,6,12], index=['a','b','c','a'])\n",
    "dat7 = pd.Series({'a': 1, 'b':3, 'c':6, 'd':12})\n",
    "print(dat5)\n",
    "print(dat6)\n",
    "print(dat7)"
   ]
  },
  {
   "cell_type": "code",
   "execution_count": 17,
   "metadata": {},
   "outputs": [
    {
     "name": "stdout",
     "output_type": "stream",
     "text": [
      "un         1.0\n",
      "deux       3.0\n",
      "trois      NaN\n",
      "quatre    12.0\n",
      "dtype: float64\n"
     ]
    }
   ],
   "source": [
    "dat2.index = ['un', 'deux', 'trois', 'quatre']\n",
    "print(dat2)"
   ]
  },
  {
   "cell_type": "code",
   "execution_count": 19,
   "metadata": {},
   "outputs": [
    {
     "data": {
      "text/plain": [
       "<class 'pandas.core.panel.Panel'>\n",
       "Dimensions: 2 (items) x 3 (major_axis) x 2 (minor_axis)\n",
       "Items axis: Item1 to Item2\n",
       "Major_axis axis: 0 to 2\n",
       "Minor_axis axis: 0 to 1"
      ]
     },
     "execution_count": 19,
     "metadata": {},
     "output_type": "execute_result"
    }
   ],
   "source": [
    "#딕셔너리 생성(키: 아이템명, 값: 데이터 프레임)\n",
    "data = {'Item1': pd.DataFrame(np.random.randn(3,2)), \n",
    "        'Item2': pd.DataFrame(np.random.randn(3,2))}\n",
    "\n",
    "#위에서 만든 딕셔너리로 패널을 생성한 다음, 이 패널의 내용을 화면에 표시\n",
    "pp1 = pd.Panel(data);\n",
    "pp1"
   ]
  },
  {
   "cell_type": "code",
   "execution_count": 20,
   "metadata": {},
   "outputs": [
    {
     "data": {
      "text/plain": [
       "<class 'pandas.core.panel.Panel'>\n",
       "Dimensions: 2 (items) x 4 (major_axis) x 3 (minor_axis)\n",
       "Items axis: Item1 to Item2\n",
       "Major_axis axis: 2016-02-01 00:00:00 to 2016-02-04 00:00:00\n",
       "Minor_axis axis: one to three"
      ]
     },
     "execution_count": 20,
     "metadata": {},
     "output_type": "execute_result"
    }
   ],
   "source": [
    "pp2 = pd.Panel(np.random.randn(2, 4, 3), items=['Item1', 'Item2'], \n",
    "                major_axis=pd.date_range('2/1/2016',periods=4),\n",
    "                minor_axis=['one','two','three'])\n",
    "pp2"
   ]
  },
  {
   "cell_type": "code",
   "execution_count": 21,
   "metadata": {},
   "outputs": [
    {
     "name": "stdout",
     "output_type": "stream",
     "text": [
      "DatetimeIndex(['2016-02-01', '2016-02-02', '2016-02-03', '2016-02-04'], dtype='datetime64[ns]', freq='D')\n",
      "DatetimeIndex(['2016-02-01', '2016-02-02', '2016-02-03', '2016-02-04'], dtype='datetime64[ns]', freq='D')\n",
      "True\n"
     ]
    }
   ],
   "source": [
    "print(pp2.major_axis)\n",
    "print(pp2.Item1.index)\n",
    "print(pp2.major_axis is pp2.Item1.index)"
   ]
  },
  {
   "cell_type": "code",
   "execution_count": 25,
   "metadata": {},
   "outputs": [
    {
     "name": "stdout",
     "output_type": "stream",
     "text": [
      "0    20\n",
      "1    30\n",
      "2    45\n",
      "3    25\n",
      "4    31\n",
      "Name: Age, dtype: int64\n"
     ]
    }
   ],
   "source": [
    "data_frame = pd.DataFrame({\n",
    "        \"Age\" : [20, 30, 45, 25, 31],\n",
    "        \"Height\" : [180, 170, 160, 150, 140],\n",
    "        \"Sex\" : [\"m\", \"m\", \"f\", \"f\", \"f\"]\n",
    "})\n",
    "\n",
    "#Age 열만 출력\n",
    "print(data_frame[\"Age\"])"
   ]
  },
  {
   "cell_type": "code",
   "execution_count": 26,
   "metadata": {
    "collapsed": true
   },
   "outputs": [],
   "source": [
    "data_frame = pd.DataFrame(data, index = ['row1', 'row2'], columns = ['col1', 'col2'])"
   ]
  },
  {
   "cell_type": "code",
   "execution_count": 27,
   "metadata": {},
   "outputs": [
    {
     "data": {
      "text/plain": [
       "Index(['row1', 'row2'], dtype='object')"
      ]
     },
     "execution_count": 27,
     "metadata": {},
     "output_type": "execute_result"
    }
   ],
   "source": [
    "data_frame.index"
   ]
  },
  {
   "cell_type": "code",
   "execution_count": 28,
   "metadata": {},
   "outputs": [
    {
     "data": {
      "text/plain": [
       "Index(['col1', 'col2'], dtype='object')"
      ]
     },
     "execution_count": 28,
     "metadata": {},
     "output_type": "execute_result"
    }
   ],
   "source": [
    "data_frame.columns"
   ]
  },
  {
   "cell_type": "code",
   "execution_count": 29,
   "metadata": {
    "collapsed": true
   },
   "outputs": [],
   "source": [
    "data_frame.columns = ['new_col1', 'new_col2']"
   ]
  },
  {
   "cell_type": "code",
   "execution_count": 30,
   "metadata": {},
   "outputs": [
    {
     "name": "stdout",
     "output_type": "stream",
     "text": [
      "   Age  Height\n",
      "0   20     180\n",
      "1   30     170\n",
      "2   45     160\n",
      "3   25     150\n",
      "4   31     140\n"
     ]
    }
   ],
   "source": [
    "data_frame = pd.DataFrame({\n",
    "        \"Age\" : [20, 30, 45, 25, 31],\n",
    "        \"Height\" : [180, 170, 160, 150, 140],\n",
    "        \"Sex\" : [\"m\", \"m\", \"f\", \"f\", \"f\"]\n",
    "})\n",
    "\n",
    "#Age, Height 열만 출력\n",
    "print(data_frame[[\"Age\", \"Height\"]])"
   ]
  },
  {
   "cell_type": "code",
   "execution_count": 31,
   "metadata": {},
   "outputs": [
    {
     "name": "stdout",
     "output_type": "stream",
     "text": [
      "Age        30\n",
      "Height    170\n",
      "Sex         m\n",
      "Name: 1, dtype: object\n",
      "   Age  Height Sex\n",
      "1   30     170   m\n"
     ]
    }
   ],
   "source": [
    "#data_frame의 1행만 추출\n",
    "print(data_frame.iloc[1])\n",
    "print(data_frame[1:2])"
   ]
  },
  {
   "cell_type": "code",
   "execution_count": 32,
   "metadata": {},
   "outputs": [
    {
     "name": "stdout",
     "output_type": "stream",
     "text": [
      "   Age  Height Sex\n",
      "2   45     160   f\n",
      "3   25     150   f\n",
      "   Age  Height Sex\n",
      "2   45     160   f\n",
      "3   25     150   f\n"
     ]
    }
   ],
   "source": [
    "#data_frame에서 2행부터 3행까지 추출\n",
    "print(data_frame.loc[2:3])\n",
    "print(data_frame[2:4])"
   ]
  },
  {
   "cell_type": "code",
   "execution_count": 33,
   "metadata": {},
   "outputs": [
    {
     "name": "stdout",
     "output_type": "stream",
     "text": [
      "   Age  Height Sex\n",
      "1   30     170   m\n",
      "2   45     160   f\n",
      "3   25     150   f\n",
      "4   31     140   f\n"
     ]
    }
   ],
   "source": [
    "#data_frame에서 1행부터 끝까지 추출\n",
    "print(data_frame[1:])"
   ]
  },
  {
   "cell_type": "code",
   "execution_count": 35,
   "metadata": {},
   "outputs": [
    {
     "name": "stdout",
     "output_type": "stream",
     "text": [
      "   Age  Height Sex\n",
      "2   45     160   f\n",
      "4   31     140   f\n",
      "1   30     170   m\n",
      "3   25     150   f\n",
      "0   20     180   m\n"
     ]
    }
   ],
   "source": [
    "#by는 기준 열을 나타내며, ascending은 오름차순 여부를 나타낸다. \n",
    "data_frame = data_frame.sort_values(by = \"Age\", ascending=False)\n",
    "print(data_frame)"
   ]
  },
  {
   "cell_type": "code",
   "execution_count": 36,
   "metadata": {},
   "outputs": [
    {
     "name": "stdout",
     "output_type": "stream",
     "text": [
      "160\n"
     ]
    }
   ],
   "source": [
    "#Height의 2행 출력\n",
    "print(data_frame.loc[2, \"Height\"])"
   ]
  },
  {
   "cell_type": "code",
   "execution_count": 37,
   "metadata": {},
   "outputs": [
    {
     "name": "stdout",
     "output_type": "stream",
     "text": [
      "f\n"
     ]
    }
   ],
   "source": [
    "#Sex의 4행 출력\n",
    "print(data_frame.loc[4, \"Sex\"])"
   ]
  },
  {
   "cell_type": "code",
   "execution_count": 38,
   "metadata": {},
   "outputs": [
    {
     "name": "stdout",
     "output_type": "stream",
     "text": [
      "1    170\n",
      "3    150\n",
      "Name: Height, dtype: int64\n"
     ]
    }
   ],
   "source": [
    "#Height의 1행부터 3행까지 출력\n",
    "print(data_frame.loc[1:3, \"Height\"])"
   ]
  },
  {
   "cell_type": "code",
   "execution_count": 39,
   "metadata": {},
   "outputs": [
    {
     "name": "stdout",
     "output_type": "stream",
     "text": [
      "0    20\n",
      "2    45\n",
      "4    31\n",
      "Name: Age, dtype: int64\n"
     ]
    }
   ],
   "source": [
    "#Age의 0행과 2행 그리고 4행을 출력\n",
    "print(data_frame.loc[[0,2,4],\"Age\"])"
   ]
  },
  {
   "cell_type": "code",
   "execution_count": 40,
   "metadata": {},
   "outputs": [
    {
     "name": "stdout",
     "output_type": "stream",
     "text": [
      "   Age  Height Sex\n",
      "1   30     170   m\n",
      "3   25     150   f\n",
      "0   20     180   m\n"
     ]
    }
   ],
   "source": [
    "#Age가 30 이하인 데이터만 추출\n",
    "print(data_frame[data_frame[\"Age\"] <= 30])"
   ]
  },
  {
   "cell_type": "code",
   "execution_count": 43,
   "metadata": {},
   "outputs": [
    {
     "name": "stdout",
     "output_type": "stream",
     "text": [
      "   Age  Height Sex\n",
      "1   30     170   m\n",
      "3   25     150   f\n"
     ]
    }
   ],
   "source": [
    "#Age가 30 이하이고 25이상인 데이터만 추출\n",
    "print(data_frame[(data_frame[\"Age\"] <= 30) & (data_frame[\"Age\"] >= 25)])"
   ]
  },
  {
   "cell_type": "code",
   "execution_count": 44,
   "metadata": {},
   "outputs": [
    {
     "name": "stdout",
     "output_type": "stream",
     "text": [
      "   Age  Height Sex\n",
      "0   20     180   m\n"
     ]
    }
   ],
   "source": [
    "#Height이 180인 데이터만 추출\n",
    "print(data_frame[data_frame[\"Height\"] == 180])"
   ]
  },
  {
   "cell_type": "code",
   "execution_count": 45,
   "metadata": {},
   "outputs": [
    {
     "name": "stdout",
     "output_type": "stream",
     "text": [
      "   Age  Height Sex  Weight\n",
      "2   45     160   f      50\n",
      "4   31     140   f      60\n",
      "1   30     170   m      70\n",
      "3   25     150   f      80\n",
      "0   20     180   m      90\n"
     ]
    }
   ],
   "source": [
    "data_frame[\"Weight\"] = [50, 60, 70, 80, 90]\n",
    "print(data_frame)"
   ]
  },
  {
   "cell_type": "code",
   "execution_count": 48,
   "metadata": {},
   "outputs": [
    {
     "name": "stdout",
     "output_type": "stream",
     "text": [
      "   Age  Height Sex Weight\n",
      "2   45     160   f     50\n",
      "4   31     140   f     60\n",
      "1   30     170   m     70\n",
      "3   25     150   f     80\n",
      "0   20     180   m     90\n",
      "5   15     150   m   None\n"
     ]
    }
   ],
   "source": [
    "data_frame.loc[len(data_frame)] = [15, 150, \"m\", None]\n",
    "print(data_frame)"
   ]
  },
  {
   "cell_type": "code",
   "execution_count": 49,
   "metadata": {},
   "outputs": [
    {
     "name": "stdout",
     "output_type": "stream",
     "text": [
      "   Age Sex Weight\n",
      "2   45   f     50\n",
      "4   31   f     60\n",
      "1   30   m     70\n",
      "3   25   f     80\n",
      "0   20   m     90\n",
      "5   15   m   None\n"
     ]
    }
   ],
   "source": [
    "#Height 열을 삭제\n",
    "print(data_frame.drop([\"Height\"],axis=1))"
   ]
  },
  {
   "cell_type": "code",
   "execution_count": 50,
   "metadata": {},
   "outputs": [
    {
     "name": "stdout",
     "output_type": "stream",
     "text": [
      "   Age  Height Sex Weight\n",
      "2   45     160   f     50\n",
      "4   31     140   f     60\n",
      "1   30     170   m     70\n",
      "0   20     180   m     90\n",
      "5   15     150   m   None\n"
     ]
    }
   ],
   "source": [
    "#3행을 삭제\n",
    "print(data_frame.drop(3,axis=0))"
   ]
  },
  {
   "cell_type": "code",
   "execution_count": 51,
   "metadata": {},
   "outputs": [
    {
     "name": "stdout",
     "output_type": "stream",
     "text": [
      "   Age  Height Sex Weight\n",
      "2   45     160   f     50\n",
      "4   31     140   f     60\n",
      "1   30     170   m     70\n",
      "3   25     150   f     80\n",
      "0   20     180   m     90\n",
      "5   15     150   m   None\n",
      "2   45     160   f     50\n",
      "4   31     140   f     60\n",
      "1   30     170   m     70\n",
      "3   25     150   f     80\n",
      "0   20     180   m     90\n",
      "5   15     150   m   None\n"
     ]
    }
   ],
   "source": [
    "#data_frame을 수직으로 연결\n",
    "new_data_frame = pd.concat([data_frame, data_frame],axis=0)\n",
    "print(new_data_frame)"
   ]
  },
  {
   "cell_type": "code",
   "execution_count": 52,
   "metadata": {},
   "outputs": [
    {
     "name": "stdout",
     "output_type": "stream",
     "text": [
      "   Age  Height Sex Weight  Age  Height Sex Weight\n",
      "2   45     160   f     50   45     160   f     50\n",
      "4   31     140   f     60   31     140   f     60\n",
      "1   30     170   m     70   30     170   m     70\n",
      "3   25     150   f     80   25     150   f     80\n",
      "0   20     180   m     90   20     180   m     90\n",
      "5   15     150   m   None   15     150   m   None\n"
     ]
    }
   ],
   "source": [
    "#data_frame을 수평으로 연결\n",
    "new_data_frame = pd.concat([data_frame, data_frame],axis=1)\n",
    "print(new_data_frame)"
   ]
  },
  {
   "cell_type": "code",
   "execution_count": 53,
   "metadata": {},
   "outputs": [
    {
     "name": "stdout",
     "output_type": "stream",
     "text": [
      "평균 : 27.666666666666668\n",
      "합 :  166\n",
      "최대 :  45\n",
      "최소 :  15\n"
     ]
    }
   ],
   "source": [
    "#data_frame의 Age의 합과 평균, 최대, 최소를 구함\n",
    "print(\"평균 :\", data_frame[\"Age\"].mean())\n",
    "print(\"합 : \", data_frame[\"Age\"].sum())\n",
    "print(\"최대 : \", data_frame[\"Age\"].max())\n",
    "print(\"최소 : \", data_frame[\"Age\"].min())"
   ]
  },
  {
   "cell_type": "markdown",
   "metadata": {},
   "source": [
    "#### EXAMPLE 1"
   ]
  },
  {
   "cell_type": "code",
   "execution_count": 55,
   "metadata": {
    "scrolled": true
   },
   "outputs": [
    {
     "name": "stdout",
     "output_type": "stream",
     "text": [
      "답 :  170.0\n",
      "답 :  150.0\n"
     ]
    },
    {
     "name": "stderr",
     "output_type": "stream",
     "text": [
      "C:\\Users\\user\\Anaconda3\\lib\\site-packages\\ipykernel_launcher.py:5: UserWarning: Boolean Series key will be reindexed to match DataFrame index.\n",
      "  \"\"\"\n",
      "C:\\Users\\user\\Anaconda3\\lib\\site-packages\\ipykernel_launcher.py:6: UserWarning: Boolean Series key will be reindexed to match DataFrame index.\n",
      "  \n"
     ]
    }
   ],
   "source": [
    "male_data_frame = data_frame[data_frame[\"Sex\"]==\"m\"]\n",
    "female_data_frame = data_frame[data_frame[\"Sex\"]==\"f\"]\n",
    "\n",
    "smale_data_frame = male_data_frame[data_frame[\"Age\"]>=30]\n",
    "sfemale_data_frame = female_data_frame[data_frame[\"Age\"]>=30]\n",
    "\n",
    "print(\"답 : \", smale_data_frame[\"Height\"].mean())\n",
    "print(\"답 : \", sfemale_data_frame[\"Height\"].mean())"
   ]
  },
  {
   "cell_type": "markdown",
   "metadata": {},
   "source": [
    "#### EXAMPLE 2\n",
    "\n",
    "<br> 프로듀스 회사의 근무자, 성별, 근무지, 연봉이 기록된 <br>“Produce.xlsx”에서 다음과 같은 질문에 답해보도록 하자.\n",
    "\n",
    "1) 이름이 김사랑, 성별 F, 근무지 CICAGO, 연봉 6000인 직원을 추가하라.\n",
    "<br>\n",
    "2) 성별이 M이면 1, 성별이 F이면 0인 Sex 열을 추가하고, 성별 열을 제거하라.\n",
    "<br>\n",
    "3) 근무지별, 성별 평균 연봉을 구해라.\n",
    "<br>\n",
    "4) 성별이 M이고 SEOUL에서 일하는 사람들의 평균 연봉을 구해라.\n",
    "<br>\n",
    "5) 연봉이 5000이상인 사람들 중 여성의 비율을 구하여라.`"
   ]
  },
  {
   "cell_type": "code",
   "execution_count": 56,
   "metadata": {},
   "outputs": [
    {
     "name": "stdout",
     "output_type": "stream",
     "text": [
      "        이름 성별     근무지  연봉(만원)\n",
      "0     강다니엘  M   SEOUL    5419\n",
      "1      강동호  M  CICAGO    6443\n",
      "2      강미나  F   SEOUL     445\n",
      "3      권현빈  M      LA    1199\n",
      "4      김도연  F  CICAGO    7579\n",
      "5     김사무엘  M   SEOUL     290\n",
      "6      김세정  F  CICAGO    4113\n",
      "7      김소혜  F   SEOUL    1200\n",
      "8      김청하  F   SEOUL    5447\n",
      "9      노태현  M  CICAGO    3126\n",
      "10    라이관린  M      LA    6890\n",
      "11     박우진  M      LA    2371\n",
      "12     박지훈  M   SEOUL    7980\n",
      "13     배진영  M  CICAGO    8399\n",
      "14     옹성우  M   SEOUL    2477\n",
      "15     유연정  F   SEOUL    8474\n",
      "16     임나영  F   SEOUL    6732\n",
      "17     전소미  F      LA    9828\n",
      "18     정채연  F   SEOUL    2208\n",
      "19     주결경  F   SEOUL    7373\n",
      "20     주학년  M  CICAGO    1379\n",
      "21     최유정  F      LA    7137\n",
      "22  타카다 켄타  M      LA    4091\n",
      "23     하성운  M  CICAGO    8721\n"
     ]
    }
   ],
   "source": [
    "data_frame = pd.read_excel(\"Produce.xlsx\", sheet_name = \"Sheet1\")\n",
    "print(data_frame)"
   ]
  },
  {
   "cell_type": "code",
   "execution_count": 58,
   "metadata": {},
   "outputs": [
    {
     "name": "stdout",
     "output_type": "stream",
     "text": [
      "        이름 성별     근무지  연봉(만원)\n",
      "0     강다니엘  M   SEOUL    5419\n",
      "1      강동호  M  CICAGO    6443\n",
      "2      강미나  F   SEOUL     445\n",
      "3      권현빈  M      LA    1199\n",
      "4      김도연  F  CICAGO    7579\n",
      "5     김사무엘  M   SEOUL     290\n",
      "6      김세정  F  CICAGO    4113\n",
      "7      김소혜  F   SEOUL    1200\n",
      "8      김청하  F   SEOUL    5447\n",
      "9      노태현  M  CICAGO    3126\n",
      "10    라이관린  M      LA    6890\n",
      "11     박우진  M      LA    2371\n",
      "12     박지훈  M   SEOUL    7980\n",
      "13     배진영  M  CICAGO    8399\n",
      "14     옹성우  M   SEOUL    2477\n",
      "15     유연정  F   SEOUL    8474\n",
      "16     임나영  F   SEOUL    6732\n",
      "17     전소미  F      LA    9828\n",
      "18     정채연  F   SEOUL    2208\n",
      "19     주결경  F   SEOUL    7373\n",
      "20     주학년  M  CICAGO    1379\n",
      "21     최유정  F      LA    7137\n",
      "22  타카다 켄타  M      LA    4091\n",
      "23     하성운  M  CICAGO    8721\n",
      "24     김사랑  F  CICAGO    6000\n"
     ]
    }
   ],
   "source": [
    "# 1) 이름이 김사랑, 성별 F, 근무지 CICAGO, 연봉 6000인 직원을 추가하라\n",
    "data_frame.loc[len(data_frame)] = [\"김사랑\", \"F\", \"CICAGO\", 6000]\n",
    "print(data_frame)"
   ]
  },
  {
   "cell_type": "code",
   "execution_count": 59,
   "metadata": {},
   "outputs": [
    {
     "name": "stdout",
     "output_type": "stream",
     "text": [
      "        이름     근무지  연봉(만원)  Sex\n",
      "0     강다니엘   SEOUL    5419    1\n",
      "1      강동호  CICAGO    6443    1\n",
      "2      강미나   SEOUL     445    0\n",
      "3      권현빈      LA    1199    1\n",
      "4      김도연  CICAGO    7579    0\n",
      "5     김사무엘   SEOUL     290    1\n",
      "6      김세정  CICAGO    4113    0\n",
      "7      김소혜   SEOUL    1200    0\n",
      "8      김청하   SEOUL    5447    0\n",
      "9      노태현  CICAGO    3126    1\n",
      "10    라이관린      LA    6890    1\n",
      "11     박우진      LA    2371    1\n",
      "12     박지훈   SEOUL    7980    1\n",
      "13     배진영  CICAGO    8399    1\n",
      "14     옹성우   SEOUL    2477    1\n",
      "15     유연정   SEOUL    8474    0\n",
      "16     임나영   SEOUL    6732    0\n",
      "17     전소미      LA    9828    0\n",
      "18     정채연   SEOUL    2208    0\n",
      "19     주결경   SEOUL    7373    0\n",
      "20     주학년  CICAGO    1379    1\n",
      "21     최유정      LA    7137    0\n",
      "22  타카다 켄타      LA    4091    1\n",
      "23     하성운  CICAGO    8721    1\n",
      "24     김사랑  CICAGO    6000    0\n"
     ]
    }
   ],
   "source": [
    "# 2) 성별이 M이면 1, 성별이 F이면 0인 Sex 열을 추가하고, 성별 열을 제거하라\n",
    "data_frame[\"Sex\"] = (data_frame[\"성별\"] == \"M\")*1\n",
    "data_frame = data_frame.drop([\"성별\"],axis=1)\n",
    "print(data_frame)"
   ]
  },
  {
   "cell_type": "code",
   "execution_count": 60,
   "metadata": {},
   "outputs": [
    {
     "name": "stdout",
     "output_type": "stream",
     "text": [
      "조건별 평균 연봉\n",
      "LA :  5252.666666666667\n",
      "SEOUL :  4367.727272727273\n",
      "CICAGO :  5720.0\n",
      "남자 :  4521.923076923077\n",
      "여자 :  5544.666666666667\n"
     ]
    }
   ],
   "source": [
    "# 3) 근무지별, 성별 평균 연봉을 구해라.\n",
    "print(\"조건별 평균 연봉\")\n",
    "print(\"LA : \" , data_frame[data_frame[\"근무지\"] ==\"LA\"][\"연봉(만원)\"].mean())\n",
    "print(\"SEOUL : \" , data_frame[data_frame[\"근무지\"] ==\"SEOUL\"][\"연봉(만원)\"].mean())\n",
    "print(\"CICAGO : \" , data_frame[data_frame[\"근무지\"] ==\"CICAGO\"][\"연봉(만원)\"].mean())\n",
    "print(\"남자 : \" , data_frame[data_frame[\"Sex\"] == 1][\"연봉(만원)\"].mean())\n",
    "print(\"여자 : \" , data_frame[data_frame[\"Sex\"] == 0][\"연봉(만원)\"].mean())"
   ]
  },
  {
   "cell_type": "code",
   "execution_count": 61,
   "metadata": {},
   "outputs": [
    {
     "name": "stdout",
     "output_type": "stream",
     "text": [
      "4041.5\n"
     ]
    }
   ],
   "source": [
    "# 4) 성별이 M이고 SEOUL에서 일하는 사람들의 평균 연봉을 구해라.\n",
    "print(data_frame[(data_frame[\"Sex\"]==1) & (data_frame[\"근무지\"]==\"SEOUL\")][\"연봉(만원)\"].mean())"
   ]
  },
  {
   "cell_type": "code",
   "execution_count": 62,
   "metadata": {},
   "outputs": [
    {
     "name": "stdout",
     "output_type": "stream",
     "text": [
      "연봉 5000이 넘는 직원의 수 :  14\n"
     ]
    }
   ],
   "source": [
    "# 5) 연봉이 5000이상인 사람들 중 여성의 비율을 구하여라.\n",
    "print(\"연봉 5000이 넘는 직원의 수 : \",len(data_frame[(data_frame[\"연봉(만원)\"]>5000)]))"
   ]
  },
  {
   "cell_type": "code",
   "execution_count": 63,
   "metadata": {},
   "outputs": [
    {
     "name": "stdout",
     "output_type": "stream",
     "text": [
      "연봉 5000이 넘는 여성의 비율 :  0.5714285714285714\n"
     ]
    }
   ],
   "source": [
    "print(\"연봉 5000이 넘는 여성의 비율 : \", 1 - data_frame[(data_frame[\"연봉(만원)\"]>5000)][\"Sex\"].mean())"
   ]
  },
  {
   "cell_type": "markdown",
   "metadata": {},
   "source": [
    "#### Syn with Numpy"
   ]
  },
  {
   "cell_type": "code",
   "execution_count": 69,
   "metadata": {},
   "outputs": [
    {
     "data": {
      "text/html": [
       "<div>\n",
       "<style>\n",
       "    .dataframe thead tr:only-child th {\n",
       "        text-align: right;\n",
       "    }\n",
       "\n",
       "    .dataframe thead th {\n",
       "        text-align: left;\n",
       "    }\n",
       "\n",
       "    .dataframe tbody tr th {\n",
       "        vertical-align: top;\n",
       "    }\n",
       "</style>\n",
       "<table border=\"1\" class=\"dataframe\">\n",
       "  <thead>\n",
       "    <tr style=\"text-align: right;\">\n",
       "      <th></th>\n",
       "      <th>0</th>\n",
       "      <th>1</th>\n",
       "      <th>2</th>\n",
       "      <th>3</th>\n",
       "    </tr>\n",
       "  </thead>\n",
       "  <tbody>\n",
       "    <tr>\n",
       "      <th>0</th>\n",
       "      <td>-0.244956</td>\n",
       "      <td>0.396614</td>\n",
       "      <td>0.324142</td>\n",
       "      <td>-0.769038</td>\n",
       "    </tr>\n",
       "    <tr>\n",
       "      <th>1</th>\n",
       "      <td>-0.527902</td>\n",
       "      <td>0.232046</td>\n",
       "      <td>0.802817</td>\n",
       "      <td>-0.296696</td>\n",
       "    </tr>\n",
       "    <tr>\n",
       "      <th>2</th>\n",
       "      <td>-0.245804</td>\n",
       "      <td>0.065968</td>\n",
       "      <td>1.260086</td>\n",
       "      <td>0.475873</td>\n",
       "    </tr>\n",
       "  </tbody>\n",
       "</table>\n",
       "</div>"
      ],
      "text/plain": [
       "          0         1         2         3\n",
       "0 -0.244956  0.396614  0.324142 -0.769038\n",
       "1 -0.527902  0.232046  0.802817 -0.296696\n",
       "2 -0.245804  0.065968  1.260086  0.475873"
      ]
     },
     "execution_count": 69,
     "metadata": {},
     "output_type": "execute_result"
    }
   ],
   "source": [
    "#random한 3행 4열의 DataFrame 생성\n",
    "data_frame = pd.DataFrame(np.random.randn(3, 4))\n",
    "data_frame"
   ]
  },
  {
   "cell_type": "code",
   "execution_count": 65,
   "metadata": {},
   "outputs": [
    {
     "name": "stderr",
     "output_type": "stream",
     "text": [
      "C:\\Users\\user\\Anaconda3\\lib\\site-packages\\ipykernel_launcher.py:2: RuntimeWarning: invalid value encountered in log\n",
      "  \n"
     ]
    }
   ],
   "source": [
    "#data_frame의 모든 원소에 log 값을 취함\n",
    "new_data_frame = np.log(data_frame)"
   ]
  },
  {
   "cell_type": "code",
   "execution_count": 66,
   "metadata": {
    "collapsed": true
   },
   "outputs": [],
   "source": [
    "#data_frame을 ndarray로 변환\n",
    "nparray = np.array(data_frame)"
   ]
  },
  {
   "cell_type": "code",
   "execution_count": 67,
   "metadata": {},
   "outputs": [
    {
     "data": {
      "text/html": [
       "<div>\n",
       "<style>\n",
       "    .dataframe thead tr:only-child th {\n",
       "        text-align: right;\n",
       "    }\n",
       "\n",
       "    .dataframe thead th {\n",
       "        text-align: left;\n",
       "    }\n",
       "\n",
       "    .dataframe tbody tr th {\n",
       "        vertical-align: top;\n",
       "    }\n",
       "</style>\n",
       "<table border=\"1\" class=\"dataframe\">\n",
       "  <thead>\n",
       "    <tr style=\"text-align: right;\">\n",
       "      <th></th>\n",
       "      <th>0</th>\n",
       "      <th>1</th>\n",
       "      <th>2</th>\n",
       "      <th>3</th>\n",
       "    </tr>\n",
       "  </thead>\n",
       "  <tbody>\n",
       "    <tr>\n",
       "      <th>0</th>\n",
       "      <td>1.446396</td>\n",
       "      <td>1.421066</td>\n",
       "      <td>-0.150473</td>\n",
       "      <td>-1.352131</td>\n",
       "    </tr>\n",
       "    <tr>\n",
       "      <th>1</th>\n",
       "      <td>1.254256</td>\n",
       "      <td>-0.487026</td>\n",
       "      <td>1.139824</td>\n",
       "      <td>-0.347552</td>\n",
       "    </tr>\n",
       "    <tr>\n",
       "      <th>2</th>\n",
       "      <td>-0.589183</td>\n",
       "      <td>0.432515</td>\n",
       "      <td>-1.918088</td>\n",
       "      <td>-0.167815</td>\n",
       "    </tr>\n",
       "  </tbody>\n",
       "</table>\n",
       "</div>"
      ],
      "text/plain": [
       "          0         1         2         3\n",
       "0  1.446396  1.421066 -0.150473 -1.352131\n",
       "1  1.254256 -0.487026  1.139824 -0.347552\n",
       "2 -0.589183  0.432515 -1.918088 -0.167815"
      ]
     },
     "execution_count": 67,
     "metadata": {},
     "output_type": "execute_result"
    }
   ],
   "source": [
    "data_frame.dropna()"
   ]
  },
  {
   "cell_type": "code",
   "execution_count": 68,
   "metadata": {},
   "outputs": [
    {
     "data": {
      "text/html": [
       "<div>\n",
       "<style>\n",
       "    .dataframe thead tr:only-child th {\n",
       "        text-align: right;\n",
       "    }\n",
       "\n",
       "    .dataframe thead th {\n",
       "        text-align: left;\n",
       "    }\n",
       "\n",
       "    .dataframe tbody tr th {\n",
       "        vertical-align: top;\n",
       "    }\n",
       "</style>\n",
       "<table border=\"1\" class=\"dataframe\">\n",
       "  <thead>\n",
       "    <tr style=\"text-align: right;\">\n",
       "      <th></th>\n",
       "      <th>0</th>\n",
       "      <th>1</th>\n",
       "      <th>2</th>\n",
       "      <th>3</th>\n",
       "    </tr>\n",
       "  </thead>\n",
       "  <tbody>\n",
       "    <tr>\n",
       "      <th>0</th>\n",
       "      <td>1.446396</td>\n",
       "      <td>1.421066</td>\n",
       "      <td>-0.150473</td>\n",
       "      <td>-1.352131</td>\n",
       "    </tr>\n",
       "    <tr>\n",
       "      <th>1</th>\n",
       "      <td>1.254256</td>\n",
       "      <td>-0.487026</td>\n",
       "      <td>1.139824</td>\n",
       "      <td>-0.347552</td>\n",
       "    </tr>\n",
       "    <tr>\n",
       "      <th>2</th>\n",
       "      <td>-0.589183</td>\n",
       "      <td>0.432515</td>\n",
       "      <td>-1.918088</td>\n",
       "      <td>-0.167815</td>\n",
       "    </tr>\n",
       "  </tbody>\n",
       "</table>\n",
       "</div>"
      ],
      "text/plain": [
       "          0         1         2         3\n",
       "0  1.446396  1.421066 -0.150473 -1.352131\n",
       "1  1.254256 -0.487026  1.139824 -0.347552\n",
       "2 -0.589183  0.432515 -1.918088 -0.167815"
      ]
     },
     "execution_count": 68,
     "metadata": {},
     "output_type": "execute_result"
    }
   ],
   "source": [
    "data_frame.dropna(axis=1)"
   ]
  },
  {
   "cell_type": "markdown",
   "metadata": {},
   "source": [
    "#### Dealing with NaN data"
   ]
  },
  {
   "cell_type": "code",
   "execution_count": 77,
   "metadata": {},
   "outputs": [],
   "source": [
    "# #col1, col2 열에 NaN이 포함된 행을 삭제\n",
    "# data_frame.dropna(subset=['col1', 'col2'])\n",
    "\n",
    "# #3행과 5행에 NaN이 포함된 열을 삭제\n",
    "# data_frame.dropna(axis=1, subset=[3, 5])\n",
    "\n",
    "# #모든 NaN을 0으로 치환한다\n",
    "# data_frame.fillna(0)\n",
    "\n",
    "# data_frame.isnull()\n",
    "\n",
    "# #NaN을 같은 열의 바로 위의 행 값으로 대체 f for forward\n",
    "# data_frame.fillna(method = 'ffill')\n",
    "\n",
    "# #NaN을 같은 열의 바로 아래 행 값으로 대체\n",
    "# data_frame.fillna(method = 'bfill')\n"
   ]
  },
  {
   "cell_type": "code",
   "execution_count": null,
   "metadata": {
    "collapsed": true
   },
   "outputs": [],
   "source": []
  }
 ],
 "metadata": {
  "kernelspec": {
   "display_name": "Python 3",
   "language": "python",
   "name": "python3"
  },
  "language_info": {
   "codemirror_mode": {
    "name": "ipython",
    "version": 3
   },
   "file_extension": ".py",
   "mimetype": "text/x-python",
   "name": "python",
   "nbconvert_exporter": "python",
   "pygments_lexer": "ipython3",
   "version": "3.6.1"
  }
 },
 "nbformat": 4,
 "nbformat_minor": 2
}
